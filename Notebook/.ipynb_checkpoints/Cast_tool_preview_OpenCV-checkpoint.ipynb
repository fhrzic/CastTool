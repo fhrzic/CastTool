{
 "cells": [
  {
   "cell_type": "markdown",
   "metadata": {},
   "source": [
    "# Notebook for smooth preview\n",
    "\n",
    "Run all cells by pressing \"ctrl+enter\"."
   ]
  },
  {
   "cell_type": "markdown",
   "metadata": {},
   "source": [
    "## Import libraries"
   ]
  },
  {
   "cell_type": "code",
   "execution_count": 1,
   "metadata": {},
   "outputs": [],
   "source": [
    "import cv2\n",
    "import numpy as np\n",
    "import pathlib"
   ]
  },
  {
   "cell_type": "markdown",
   "metadata": {},
   "source": [
    "## Functions"
   ]
  },
  {
   "cell_type": "code",
   "execution_count": 2,
   "metadata": {},
   "outputs": [],
   "source": [
    "# Generate new image\n",
    "def blend(value, real_image, generated_image):\n",
    "    global new_image\n",
    "    alpha = value / 100.0\n",
    "    beta = ( 1.0 - alpha )\n",
    "    new_image = cv2.addWeighted(generated_image, alpha, real_image, beta, 0.0)\n",
    "\n",
    "# Trackbar update\n",
    "def on_trackbar(val):\n",
    "    pass\n",
    "    \n",
    "def load_image(val):\n",
    "    global name\n",
    "    global real_image \n",
    "    global generated_image\n",
    "    if val < 10:\n",
    "        name = '0'+str(val)+'.png'\n",
    "    else:\n",
    "        name = str(val)+'.png'\n",
    "    real_image = input_dir+\"real/\"+name\n",
    "    generated_image = input_dir+\"generated/\"+name\n",
    "    real_image = cv2.imread(real_image)\n",
    "    generated_image = cv2.imread(generated_image)\n",
    "    "
   ]
  },
  {
   "cell_type": "markdown",
   "metadata": {},
   "source": [
    "## Main \n",
    "\n",
    "Set the input dir to point to \"Data\" folder.\n",
    "\n",
    "To exit the window press \"ESC\"."
   ]
  },
  {
   "cell_type": "code",
   "execution_count": 4,
   "metadata": {},
   "outputs": [],
   "source": [
    "#*************************YOUR CODE HERE**************************#\n",
    "# Set input dir's path\n",
    "input_dir = '../Data/'\n",
    "#*****************************************************************#\n",
    "\n",
    "\n",
    "# Generate image's placeholders\n",
    "name = '00.png'\n",
    "real_image = input_dir+\"real/\" + name\n",
    "generated_image = input_dir+\"generated/\" + name\n",
    "real_image = cv2.imread(real_image)\n",
    "generated_image = cv2.imread(generated_image)\n",
    "new_image = real_image.copy()\n",
    "blend(0, real_image, generated_image)\n",
    "\n",
    "# Generate preview window\n",
    "cv2.namedWindow('Cast_tool_preview')\n",
    "cv2.createTrackbar(\"Alpha (%):\", 'Cast_tool_preview' , 0, 100, on_trackbar)\n",
    "cv2.createTrackbar(\"Image:\", 'Cast_tool_preview', 0, 29, on_trackbar)\n",
    "\n",
    "\n",
    "while(1):\n",
    "    cv2.imshow('Cast_tool_preview', new_image)\n",
    "    k = cv2.waitKey(1) & 0xFF\n",
    "    if k == 27:\n",
    "        break\n",
    "    \n",
    "    alpha = cv2.getTrackbarPos('Alpha (%):','Cast_tool_preview')\n",
    "    image = cv2.getTrackbarPos('Image:','Cast_tool_preview')\n",
    "    if image < 10:\n",
    "        new_name = '0'+str(image)+'.png'\n",
    "    else:\n",
    "        new_name = str(image)+'.png'    \n",
    "    \n",
    "    if new_name != name:\n",
    "        load_image(image)\n",
    "        name = new_name\n",
    "    blend(alpha, real_image, generated_image)\n",
    "    \n",
    "\n",
    "cv2.destroyAllWindows()\n"
   ]
  }
 ],
 "metadata": {
  "kernelspec": {
   "display_name": "Python 3",
   "language": "python",
   "name": "python3"
  },
  "language_info": {
   "codemirror_mode": {
    "name": "ipython",
    "version": 3
   },
   "file_extension": ".py",
   "mimetype": "text/x-python",
   "name": "python",
   "nbconvert_exporter": "python",
   "pygments_lexer": "ipython3",
   "version": "3.7.9"
  }
 },
 "nbformat": 4,
 "nbformat_minor": 4
}
